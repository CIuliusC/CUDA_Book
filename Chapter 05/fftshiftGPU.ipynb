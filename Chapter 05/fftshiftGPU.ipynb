{
  "nbformat": 4,
  "nbformat_minor": 0,
  "metadata": {
    "colab": {
      "name": "fftshiftGPU.ipynb",
      "provenance": []
    },
    "kernelspec": {
      "name": "python3",
      "display_name": "Python 3"
    },
    "accelerator": "GPU"
  },
  "cells": [
    {
      "cell_type": "code",
      "metadata": {
        "id": "TRR9te7PjE3Z",
        "colab_type": "code",
        "outputId": "f48a0ae0-4660-412e-b3d6-27c90955476a",
        "colab": {
          "base_uri": "https://localhost:8080/",
          "height": 153
        }
      },
      "source": [
        "!pip install pycuda"
      ],
      "execution_count": 1,
      "outputs": [
        {
          "output_type": "stream",
          "text": [
            "Requirement already satisfied: pycuda in /usr/local/lib/python3.6/dist-packages (2019.1.2)\n",
            "Requirement already satisfied: pytools>=2011.2 in /usr/local/lib/python3.6/dist-packages (from pycuda) (2020.1)\n",
            "Requirement already satisfied: mako in /usr/local/lib/python3.6/dist-packages (from pycuda) (1.1.2)\n",
            "Requirement already satisfied: appdirs>=1.4.0 in /usr/local/lib/python3.6/dist-packages (from pycuda) (1.4.3)\n",
            "Requirement already satisfied: decorator>=3.2.0 in /usr/local/lib/python3.6/dist-packages (from pycuda) (4.4.2)\n",
            "Requirement already satisfied: six>=1.8.0 in /usr/local/lib/python3.6/dist-packages (from pytools>=2011.2->pycuda) (1.12.0)\n",
            "Requirement already satisfied: numpy>=1.6.0 in /usr/local/lib/python3.6/dist-packages (from pytools>=2011.2->pycuda) (1.18.2)\n",
            "Requirement already satisfied: MarkupSafe>=0.9.2 in /usr/local/lib/python3.6/dist-packages (from mako->pycuda) (1.1.1)\n"
          ],
          "name": "stdout"
        }
      ]
    },
    {
      "cell_type": "markdown",
      "metadata": {
        "id": "g4-We9QRHQ2q",
        "colab_type": "text"
      },
      "source": [
        "Imports."
      ]
    },
    {
      "cell_type": "code",
      "metadata": {
        "id": "HwQkuItRjNPm",
        "colab_type": "code",
        "colab": {}
      },
      "source": [
        "import numpy as np\n",
        "from numpy import linalg as LA\n",
        "\n",
        "import pycuda.driver as cuda\n",
        "import pycuda.autoinit\n",
        "import pycuda.gpuarray as gpuarray\n",
        "from pycuda.compiler import SourceModule\n",
        "\n",
        "import cv2\n",
        "import matplotlib.pyplot as plt"
      ],
      "execution_count": 0,
      "outputs": []
    },
    {
      "cell_type": "markdown",
      "metadata": {
        "id": "MAf6NxNKIjBX",
        "colab_type": "text"
      },
      "source": [
        "iDivUp function: if ```b``` divides ```a```, then ```a/b``` is returned, otherwise the function returns the integer division between ```a``` and ```b``` ```+1```."
      ]
    },
    {
      "cell_type": "code",
      "metadata": {
        "id": "z2GSVHGMIvaR",
        "colab_type": "code",
        "colab": {}
      },
      "source": [
        "###################\n",
        "# iDivUp FUNCTION #\n",
        "###################\n",
        "def iDivUp(a, b):\n",
        "    # Round a / b to nearest higher integer value\n",
        "    a = np.int32(a)\n",
        "    b = np.int32(b)\n",
        "    return (a / b + 1) if (a % b != 0) else (a / b)"
      ],
      "execution_count": 0,
      "outputs": []
    },
    {
      "cell_type": "markdown",
      "metadata": {
        "id": "TR-QtlqKEPJq",
        "colab_type": "text"
      },
      "source": [
        "The fftshift kernel. Image is ```M``` rows by ```N``` columns."
      ]
    },
    {
      "cell_type": "code",
      "metadata": {
        "id": "F8VQIMPQERA5",
        "colab_type": "code",
        "colab": {}
      },
      "source": [
        "mod = SourceModule(\"\"\"\n",
        "#include <stdio.h>\n",
        "__global__ void fftshift2DKernel(double *input, double *output, const int M, const int N) \n",
        "{\n",
        "    \n",
        "    const int tidx = threadIdx.x + blockIdx.x * blockDim.x;\n",
        "    const int tidy = threadIdx.y + blockIdx.y * blockDim.y;\n",
        "\n",
        "    if ((tidx >= N) | (tidy >= M)) return;\n",
        "    \n",
        "    int indIn          = N * ((tidy + (int)ceil((double)M/ 2.)) % M) + ((tidx + (int)ceil((double)N/ 2.)) % N);\n",
        "    int indOut         = N * tidy + tidx;\n",
        "    \n",
        "    output[indOut] = input[indIn];\n",
        "}\n",
        "\"\"\"\n",
        ")"
      ],
      "execution_count": 0,
      "outputs": []
    },
    {
      "cell_type": "markdown",
      "metadata": {
        "id": "lJKcYx-OqbME",
        "colab_type": "text"
      },
      "source": [
        "Setup the image to ```fftshift```."
      ]
    },
    {
      "cell_type": "code",
      "metadata": {
        "id": "g7WqsLEs1QCN",
        "colab_type": "code",
        "outputId": "8d3dabf1-b431-48d7-85d9-0b6f3862438f",
        "colab": {
          "base_uri": "https://localhost:8080/",
          "height": 271
        }
      },
      "source": [
        "M          = 45    # --- Number of rows\n",
        "N          = 123    # --- Number of cols\n",
        "\n",
        "BLOCKSIZEX = 16\n",
        "BLOCKSIZEY = 16\n",
        "\n",
        "fftshift2D = mod.get_function(\"fftshift2DKernel\")\n",
        "\n",
        "blockDim  = (BLOCKSIZEX, BLOCKSIZEY, 1)\n",
        "gridDim   = (int(iDivUp(N, BLOCKSIZEX)), int(iDivUp(M, BLOCKSIZEY)), 1)\n",
        "\n",
        "x         = range(N)\n",
        "y         = range(M)\n",
        "X, Y      = np.meshgrid(x, y)\n",
        "\n",
        "img       = X * Y\n",
        "img       = np.asarray(img, float)\n",
        "\n",
        "plt.figure(1)\n",
        "plt.imshow(img)\n",
        "plt.colorbar()\n",
        "plt.title('Input image')\n",
        "\n",
        "print(img.dtype)"
      ],
      "execution_count": 20,
      "outputs": [
        {
          "output_type": "stream",
          "text": [
            "float64\n"
          ],
          "name": "stdout"
        },
        {
          "output_type": "display_data",
          "data": {
            "image/png": "[encoded data removed]",
            "text/plain": [
              "<Figure size 432x288 with 2 Axes>"
            ]
          },
          "metadata": {
            "tags": []
          }
        }
      ]
    },
    {
      "cell_type": "markdown",
      "metadata": {
        "id": "CmfGHmx3KQ48",
        "colab_type": "text"
      },
      "source": [
        "Moving the data to the device and allocating space for the result."
      ]
    },
    {
      "cell_type": "code",
      "metadata": {
        "id": "EihEpivAKS5b",
        "colab_type": "code",
        "colab": {}
      },
      "source": [
        "# --- Move the image from host to device\n",
        "d_img  = cuda.mem_alloc(img.nbytes)\n",
        "cuda.memcpy_htod(d_img, img)\n",
        "d_img2 = cuda.mem_alloc(img.nbytes)"
      ],
      "execution_count": 0,
      "outputs": []
    },
    {
      "cell_type": "markdown",
      "metadata": {
        "id": "3Ccc62pYhDGg",
        "colab_type": "text"
      },
      "source": [
        "Operating the 2D fftshift."
      ]
    },
    {
      "cell_type": "code",
      "metadata": {
        "id": "xWQeQJALKhfX",
        "colab_type": "code",
        "outputId": "6b7a121e-982a-469c-de9c-f6315333b4fa",
        "colab": {
          "base_uri": "https://localhost:8080/",
          "height": 271
        }
      },
      "source": [
        "fftshift2D(d_img, d_img2, np.int32(M), np.int32(N), block = blockDim, grid = gridDim)\n",
        "\n",
        "img2   = np.empty_like(img)\n",
        "cuda.memcpy_dtoh(img2, d_img2)\n",
        "\n",
        "plt.figure(2)\n",
        "plt.imshow(img2)\n",
        "plt.colorbar()\n",
        "plt.title('Output image')"
      ],
      "execution_count": 22,
      "outputs": [
        {
          "output_type": "execute_result",
          "data": {
            "text/plain": [
              "Text(0.5, 1.0, 'Output image')"
            ]
          },
          "metadata": {
            "tags": []
          },
          "execution_count": 22
        },
        {
          "output_type": "display_data",
          "data": {
            "image/png": "[encoded data removed]",
            "text/plain": [
              "<Figure size 432x288 with 2 Axes>"
            ]
          },
          "metadata": {
            "tags": []
          }
        }
      ]
    },
    {
      "cell_type": "markdown",
      "metadata": {
        "id": "ZXXhY3vahSYX",
        "colab_type": "text"
      },
      "source": [
        "Comparison of implemented 2D ```fftshift``` with numpy ```ffthisft```."
      ]
    },
    {
      "cell_type": "code",
      "metadata": {
        "id": "OSocTIbshaOP",
        "colab_type": "code",
        "colab": {
          "base_uri": "https://localhost:8080/",
          "height": 34
        },
        "outputId": "37a4448a-fbc8-4889-c9eb-6e8ebb3e7d8c"
      },
      "source": [
        "print(LA.norm(np.fft.fftshift(img) - img2))"
      ],
      "execution_count": 23,
      "outputs": [
        {
          "output_type": "stream",
          "text": [
            "0.0\n"
          ],
          "name": "stdout"
        }
      ]
    }
  ]
}