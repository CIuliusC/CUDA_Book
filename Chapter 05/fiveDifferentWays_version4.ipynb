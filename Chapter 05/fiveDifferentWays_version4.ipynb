{
  "nbformat": 4,
  "nbformat_minor": 0,
  "metadata": {
    "colab": {
      "name": "fiveDifferentWays_version4.ipynb",
      "provenance": []
    },
    "kernelspec": {
      "name": "python3",
      "display_name": "Python 3"
    },
    "accelerator": "GPU"
  },
  "cells": [
    {
      "cell_type": "markdown",
      "metadata": {
        "id": "SVu3CeYsZjlg",
        "colab_type": "text"
      },
      "source": [
        "# PyCUDA installation"
      ]
    },
    {
      "cell_type": "code",
      "metadata": {
        "id": "DG6ck3vGZceu",
        "colab_type": "code",
        "outputId": "33d8cb3c-4edb-4aaf-b0fd-0d8e1298bbbd",
        "colab": {
          "base_uri": "https://localhost:8080/",
          "height": 153
        }
      },
      "source": [
        "!pip install pycuda"
      ],
      "execution_count": 0,
      "outputs": [
        {
          "output_type": "stream",
          "text": [
            "Requirement already satisfied: pycuda in /usr/local/lib/python3.6/dist-packages (2019.1.2)\n",
            "Requirement already satisfied: appdirs>=1.4.0 in /usr/local/lib/python3.6/dist-packages (from pycuda) (1.4.3)\n",
            "Requirement already satisfied: decorator>=3.2.0 in /usr/local/lib/python3.6/dist-packages (from pycuda) (4.4.1)\n",
            "Requirement already satisfied: mako in /usr/local/lib/python3.6/dist-packages (from pycuda) (1.1.2)\n",
            "Requirement already satisfied: pytools>=2011.2 in /usr/local/lib/python3.6/dist-packages (from pycuda) (2020.1)\n",
            "Requirement already satisfied: MarkupSafe>=0.9.2 in /usr/local/lib/python3.6/dist-packages (from mako->pycuda) (1.1.1)\n",
            "Requirement already satisfied: numpy>=1.6.0 in /usr/local/lib/python3.6/dist-packages (from pytools>=2011.2->pycuda) (1.17.5)\n",
            "Requirement already satisfied: six>=1.8.0 in /usr/local/lib/python3.6/dist-packages (from pytools>=2011.2->pycuda) (1.12.0)\n"
          ],
          "name": "stdout"
        }
      ]
    },
    {
      "cell_type": "markdown",
      "metadata": {
        "id": "dwusg2czZ9ZG",
        "colab_type": "text"
      },
      "source": [
        "\n",
        "\n",
        "---\n",
        "\n"
      ]
    },
    {
      "cell_type": "markdown",
      "metadata": {
        "id": "Kem84FfyZ-fU",
        "colab_type": "text"
      },
      "source": [
        "# Version 4: using ```ElementwiseKernel```"
      ]
    },
    {
      "cell_type": "markdown",
      "metadata": {
        "id": "yvofD-5ca9v-",
        "colab_type": "text"
      },
      "source": [
        "The first part of the code is the usual one."
      ]
    },
    {
      "cell_type": "code",
      "metadata": {
        "id": "c8hvOunBaJHG",
        "colab_type": "code",
        "colab": {}
      },
      "source": [
        "import numpy as np\n",
        "\n",
        "import pycuda.driver as cuda\n",
        "import pycuda.autoinit\n",
        "import pycuda.gpuarray as gpuarray\n",
        "\n",
        "########\n",
        "# MAIN #\n",
        "########\n",
        "\n",
        "start = cuda.Event()\n",
        "end   = cuda.Event()\n",
        "\n",
        "N = 100000\n",
        "\n",
        "h_a = np.random.randn(1, N)\n",
        "h_b = np.random.randn(1, N)\n",
        "\n",
        "h_a = h_a.astype(np.float32)\n",
        "h_b = h_b.astype(np.float32)\n",
        "\n",
        "d_a = gpuarray.to_gpu(h_a)\n",
        "d_b = gpuarray.to_gpu(h_b)"
      ],
      "execution_count": 0,
      "outputs": []
    },
    {
      "cell_type": "markdown",
      "metadata": {
        "id": "o3FhI_S_boJX",
        "colab_type": "text"
      },
      "source": [
        "In this example, ```d_c``` is explicitly defined. This is necessary for the use of the ```ElementwiseKernel``` module."
      ]
    },
    {
      "cell_type": "code",
      "metadata": {
        "id": "cpzx7eajbo0N",
        "colab_type": "code",
        "colab": {}
      },
      "source": [
        "d_c = gpuarray.empty_like(d_a)"
      ],
      "execution_count": 0,
      "outputs": []
    },
    {
      "cell_type": "markdown",
      "metadata": {
        "id": "VnN2716xbzk9",
        "colab_type": "text"
      },
      "source": [
        "Load the ```ElementwiseKernel``` module."
      ]
    },
    {
      "cell_type": "code",
      "metadata": {
        "id": "NMPzKKoRbz7E",
        "colab_type": "code",
        "colab": {}
      },
      "source": [
        "from pycuda.elementwise import ElementwiseKernel"
      ],
      "execution_count": 0,
      "outputs": []
    },
    {
      "cell_type": "markdown",
      "metadata": {
        "id": "o3oZUt9scf0G",
        "colab_type": "text"
      },
      "source": [
        "The ```ElementwiseKernel``` enables to define only the kernel instructions to be elementwise executed within the kernel. Here, to generalize Version #1, a general linear combination between ```d_a``` and ```d_b``` is considered. A reference to the elementwise kernel is defined in ```lin_comb```.\n"
      ]
    },
    {
      "cell_type": "code",
      "metadata": {
        "id": "4v_ncnJKcgPs",
        "colab_type": "code",
        "outputId": "0d495e49-fba3-45b1-ca6f-18067425532d",
        "colab": {
          "base_uri": "https://localhost:8080/",
          "height": 51
        }
      },
      "source": [
        "lin_comb = ElementwiseKernel(\n",
        "        \"float *d_c, float *d_a, float *d_b, float a, float b\",\n",
        "        \"d_c[i] = a * d_a[i] + b * d_b[i]\")"
      ],
      "execution_count": 0,
      "outputs": [
        {
          "output_type": "stream",
          "text": [
            "Processing time = 0.094025s\n",
            "Test passed!\n"
          ],
          "name": "stdout"
        }
      ]
    },
    {
      "cell_type": "markdown",
      "metadata": {
        "id": "AQKGJciLtxvs",
        "colab_type": "text"
      },
      "source": [
        "Invoke the ```lin_comb``` function."
      ]
    },
    {
      "cell_type": "code",
      "metadata": {
        "id": "mIYnhKO5tw-m",
        "colab_type": "code",
        "colab": {}
      },
      "source": [
        "start.record()\n",
        "lin_comb(d_c, d_a, d_b, 2, 3)\n",
        "end.record() \n",
        "end.synchronize()\n",
        "secs = start.time_till(end) * 1e-3\n",
        "print(\"Processing time = %fs\" % (secs))"
      ],
      "execution_count": 0,
      "outputs": []
    },
    {
      "cell_type": "markdown",
      "metadata": {
        "id": "P4lr_HlFueTE",
        "colab_type": "text"
      },
      "source": [
        "The last part is as usual."
      ]
    },
    {
      "cell_type": "code",
      "metadata": {
        "id": "_C9ri1HvudJu",
        "colab_type": "code",
        "colab": {}
      },
      "source": [
        "h_c = d_c.get()\n",
        "\n",
        "if np.array_equal(h_c, 2 * h_a + 3 * h_b):\n",
        "  print(\"Test passed!\")\n",
        "else :\n",
        "  print(\"Error!\")\n",
        "\n",
        "cuda.Context.synchronize()"
      ],
      "execution_count": 0,
      "outputs": []
    }
  ]
}
