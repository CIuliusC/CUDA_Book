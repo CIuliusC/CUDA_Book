{
  "nbformat": 4,
  "nbformat_minor": 0,
  "metadata": {
    "colab": {
      "name": "dumpProperties.ipynb",
      "provenance": []
    },
    "kernelspec": {
      "name": "python3",
      "display_name": "Python 3"
    },
    "accelerator": "GPU"
  },
  "cells": [
    {
      "cell_type": "code",
      "metadata": {
        "id": "8IOYbf8rVmJR",
        "colab_type": "code",
        "colab": {
          "base_uri": "https://localhost:8080/",
          "height": 442
        },
        "outputId": "04635812-b2a1-4f76-9534-156444be8ac0"
      },
      "source": [
        "!pip install pycuda"
      ],
      "execution_count": 1,
      "outputs": [
        {
          "output_type": "stream",
          "text": [
            "Collecting pycuda\n",
            "\u001b[?25l  Downloading https://files.pythonhosted.org/packages/5e/3f/5658c38579b41866ba21ee1b5020b8225cec86fe717e4b1c5c972de0a33c/pycuda-2019.1.2.tar.gz (1.6MB)\n",
            "\u001b[K     |████████████████████████████████| 1.6MB 7.4MB/s \n",
            "\u001b[?25hCollecting pytools>=2011.2\n",
            "\u001b[?25l  Downloading https://files.pythonhosted.org/packages/66/c7/88a4f8b6f0f78d0115ec3320861a0cc1f6daa3b67e97c3c2842c33f9c089/pytools-2020.1.tar.gz (60kB)\n",
            "\u001b[K     |████████████████████████████████| 61kB 9.3MB/s \n",
            "\u001b[?25hRequirement already satisfied: decorator>=3.2.0 in /usr/local/lib/python3.6/dist-packages (from pycuda) (4.4.2)\n",
            "Collecting appdirs>=1.4.0\n",
            "  Downloading https://files.pythonhosted.org/packages/56/eb/810e700ed1349edde4cbdc1b2a21e28cdf115f9faf263f6bbf8447c1abf3/appdirs-1.4.3-py2.py3-none-any.whl\n",
            "Collecting mako\n",
            "\u001b[?25l  Downloading https://files.pythonhosted.org/packages/50/78/f6ade1e18aebda570eed33b7c534378d9659351cadce2fcbc7b31be5f615/Mako-1.1.2-py2.py3-none-any.whl (75kB)\n",
            "\u001b[K     |████████████████████████████████| 81kB 12.5MB/s \n",
            "\u001b[?25hRequirement already satisfied: six>=1.8.0 in /usr/local/lib/python3.6/dist-packages (from pytools>=2011.2->pycuda) (1.12.0)\n",
            "Requirement already satisfied: numpy>=1.6.0 in /usr/local/lib/python3.6/dist-packages (from pytools>=2011.2->pycuda) (1.18.2)\n",
            "Requirement already satisfied: MarkupSafe>=0.9.2 in /usr/local/lib/python3.6/dist-packages (from mako->pycuda) (1.1.1)\n",
            "Building wheels for collected packages: pycuda, pytools\n",
            "  Building wheel for pycuda (setup.py) ... \u001b[?25l\u001b[?25hdone\n",
            "  Created wheel for pycuda: filename=pycuda-2019.1.2-cp36-cp36m-linux_x86_64.whl size=4535965 sha256=f4097edd9bb1b171a6f5a47f77b0f10ffc74dd408aaae7765e75dd0a374e9e7d\n",
            "  Stored in directory: /root/.cache/pip/wheels/a6/60/f0/b1c430c73d281ac3e46070480db50f7907364eb6f6d3188396\n",
            "  Building wheel for pytools (setup.py) ... \u001b[?25l\u001b[?25hdone\n",
            "  Created wheel for pytools: filename=pytools-2020.1-py2.py3-none-any.whl size=59602 sha256=9b0549c9fc84206102b549c9a602271bd9ee7c98f313f91a8d1a51c49cb37496\n",
            "  Stored in directory: /root/.cache/pip/wheels/6f/da/1b/946775a88291378182ed92c9800d6d0ebc2a554cb89829cc24\n",
            "Successfully built pycuda pytools\n",
            "Installing collected packages: appdirs, pytools, mako, pycuda\n",
            "Successfully installed appdirs-1.4.3 mako-1.1.2 pycuda-2019.1.2 pytools-2020.1\n"
          ],
          "name": "stdout"
        }
      ]
    },
    {
      "cell_type": "code",
      "metadata": {
        "id": "2A1Q53gCVkq0",
        "colab_type": "code",
        "colab": {
          "base_uri": "https://localhost:8080/",
          "height": 1000
        },
        "outputId": "5e4ede3a-be21-43c3-dabf-cc1b9673c037"
      },
      "source": [
        "# --- PyCUDA initialization\n",
        "import pycuda.driver as cuda\n",
        "import pycuda.autoinit\n",
        "from pycuda.compiler import SourceModule\n",
        "\n",
        "cuda.init()\n",
        "\n",
        "print(\"%d device(s) found.\" % cuda.Device.count())\n",
        " \n",
        "dev = cuda.Device(0)\n",
        "print(\"Device: %s\", dev.name())\n",
        "print(\"  Compute Capability: %d.%d\" % dev.compute_capability())\n",
        "print(\"  Total Memory: %s KB\" % (dev.total_memory()//(1024)))\n",
        "atts = [(str(att), value)\n",
        "          for att, value in dev.get_attributes().items()]\n",
        "atts.sort()\n",
        "   \n",
        "for att, value in atts:\n",
        "  print(\"  %s: %s\" % (att, value))"
      ],
      "execution_count": 6,
      "outputs": [
        {
          "output_type": "stream",
          "text": [
            "1 device(s) found.\n",
            "Device: %s Tesla T4\n",
            "  Compute Capability: 7.5\n",
            "  Total Memory: 15441664 KB\n",
            "  ASYNC_ENGINE_COUNT: 3\n",
            "  CAN_MAP_HOST_MEMORY: 1\n",
            "  CLOCK_RATE: 1590000\n",
            "  COMPUTE_CAPABILITY_MAJOR: 7\n",
            "  COMPUTE_CAPABILITY_MINOR: 5\n",
            "  COMPUTE_MODE: DEFAULT\n",
            "  CONCURRENT_KERNELS: 1\n",
            "  ECC_ENABLED: 1\n",
            "  GLOBAL_L1_CACHE_SUPPORTED: 1\n",
            "  GLOBAL_MEMORY_BUS_WIDTH: 256\n",
            "  GPU_OVERLAP: 1\n",
            "  INTEGRATED: 0\n",
            "  KERNEL_EXEC_TIMEOUT: 0\n",
            "  L2_CACHE_SIZE: 4194304\n",
            "  LOCAL_L1_CACHE_SUPPORTED: 1\n",
            "  MANAGED_MEMORY: 1\n",
            "  MAXIMUM_SURFACE1D_LAYERED_LAYERS: 2048\n",
            "  MAXIMUM_SURFACE1D_LAYERED_WIDTH: 32768\n",
            "  MAXIMUM_SURFACE1D_WIDTH: 32768\n",
            "  MAXIMUM_SURFACE2D_HEIGHT: 65536\n",
            "  MAXIMUM_SURFACE2D_LAYERED_HEIGHT: 32768\n",
            "  MAXIMUM_SURFACE2D_LAYERED_LAYERS: 2048\n",
            "  MAXIMUM_SURFACE2D_LAYERED_WIDTH: 32768\n",
            "  MAXIMUM_SURFACE2D_WIDTH: 131072\n",
            "  MAXIMUM_SURFACE3D_DEPTH: 16384\n",
            "  MAXIMUM_SURFACE3D_HEIGHT: 16384\n",
            "  MAXIMUM_SURFACE3D_WIDTH: 16384\n",
            "  MAXIMUM_SURFACECUBEMAP_LAYERED_LAYERS: 2046\n",
            "  MAXIMUM_SURFACECUBEMAP_LAYERED_WIDTH: 32768\n",
            "  MAXIMUM_SURFACECUBEMAP_WIDTH: 32768\n",
            "  MAXIMUM_TEXTURE1D_LAYERED_LAYERS: 2048\n",
            "  MAXIMUM_TEXTURE1D_LAYERED_WIDTH: 32768\n",
            "  MAXIMUM_TEXTURE1D_LINEAR_WIDTH: 134217728\n",
            "  MAXIMUM_TEXTURE1D_MIPMAPPED_WIDTH: 32768\n",
            "  MAXIMUM_TEXTURE1D_WIDTH: 131072\n",
            "  MAXIMUM_TEXTURE2D_ARRAY_HEIGHT: 32768\n",
            "  MAXIMUM_TEXTURE2D_ARRAY_NUMSLICES: 2048\n",
            "  MAXIMUM_TEXTURE2D_ARRAY_WIDTH: 32768\n",
            "  MAXIMUM_TEXTURE2D_GATHER_HEIGHT: 32768\n",
            "  MAXIMUM_TEXTURE2D_GATHER_WIDTH: 32768\n",
            "  MAXIMUM_TEXTURE2D_HEIGHT: 65536\n",
            "  MAXIMUM_TEXTURE2D_LINEAR_HEIGHT: 65000\n",
            "  MAXIMUM_TEXTURE2D_LINEAR_PITCH: 2097120\n",
            "  MAXIMUM_TEXTURE2D_LINEAR_WIDTH: 131072\n",
            "  MAXIMUM_TEXTURE2D_MIPMAPPED_HEIGHT: 32768\n",
            "  MAXIMUM_TEXTURE2D_MIPMAPPED_WIDTH: 32768\n",
            "  MAXIMUM_TEXTURE2D_WIDTH: 131072\n",
            "  MAXIMUM_TEXTURE3D_DEPTH: 16384\n",
            "  MAXIMUM_TEXTURE3D_DEPTH_ALTERNATE: 32768\n",
            "  MAXIMUM_TEXTURE3D_HEIGHT: 16384\n",
            "  MAXIMUM_TEXTURE3D_HEIGHT_ALTERNATE: 8192\n",
            "  MAXIMUM_TEXTURE3D_WIDTH: 16384\n",
            "  MAXIMUM_TEXTURE3D_WIDTH_ALTERNATE: 8192\n",
            "  MAXIMUM_TEXTURECUBEMAP_LAYERED_LAYERS: 2046\n",
            "  MAXIMUM_TEXTURECUBEMAP_LAYERED_WIDTH: 32768\n",
            "  MAXIMUM_TEXTURECUBEMAP_WIDTH: 32768\n",
            "  MAX_BLOCK_DIM_X: 1024\n",
            "  MAX_BLOCK_DIM_Y: 1024\n",
            "  MAX_BLOCK_DIM_Z: 64\n",
            "  MAX_GRID_DIM_X: 2147483647\n",
            "  MAX_GRID_DIM_Y: 65535\n",
            "  MAX_GRID_DIM_Z: 65535\n",
            "  MAX_PITCH: 2147483647\n",
            "  MAX_REGISTERS_PER_BLOCK: 65536\n",
            "  MAX_REGISTERS_PER_MULTIPROCESSOR: 65536\n",
            "  MAX_SHARED_MEMORY_PER_BLOCK: 49152\n",
            "  MAX_SHARED_MEMORY_PER_MULTIPROCESSOR: 65536\n",
            "  MAX_THREADS_PER_BLOCK: 1024\n",
            "  MAX_THREADS_PER_MULTIPROCESSOR: 1024\n",
            "  MEMORY_CLOCK_RATE: 5001000\n",
            "  MULTIPROCESSOR_COUNT: 40\n",
            "  MULTI_GPU_BOARD: 0\n",
            "  MULTI_GPU_BOARD_GROUP_ID: 0\n",
            "  PCI_BUS_ID: 0\n",
            "  PCI_DEVICE_ID: 4\n",
            "  PCI_DOMAIN_ID: 0\n",
            "  STREAM_PRIORITIES_SUPPORTED: 1\n",
            "  SURFACE_ALIGNMENT: 512\n",
            "  TCC_DRIVER: 0\n",
            "  TEXTURE_ALIGNMENT: 512\n",
            "  TEXTURE_PITCH_ALIGNMENT: 32\n",
            "  TOTAL_CONSTANT_MEMORY: 65536\n",
            "  UNIFIED_ADDRESSING: 1\n",
            "  WARP_SIZE: 32\n"
          ],
          "name": "stdout"
        }
      ]
    }
  ]
}